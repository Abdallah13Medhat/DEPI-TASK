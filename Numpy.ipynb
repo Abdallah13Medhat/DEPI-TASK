{
  "nbformat": 4,
  "nbformat_minor": 0,
  "metadata": {
    "colab": {
      "provenance": []
    },
    "kernelspec": {
      "name": "python3",
      "display_name": "Python 3"
    },
    "language_info": {
      "name": "python"
    }
  },
  "cells": [
    {
      "cell_type": "markdown",
      "source": [
        "# NumPy Practice Notebook\n",
        "\n",
        "This notebook contains a series of practice problems to help you understand and apply core concepts in NumPy.\n",
        "\n",
        "---\n",
        "\n",
        "## 🧩 1. Array Creation\n",
        "**Question:** Create the following arrays using NumPy:\n",
        "1. A 1D array with numbers from 0 to 9\n",
        "2. A 2D array of shape (3, 3) filled with zeros\n",
        "3. A 2D array of shape (2, 4) filled with ones\n",
        "4. A 3x3 identity matrix\n",
        "\n",
        "\n",
        "---\n"
      ],
      "metadata": {
        "id": "DIl4swbP_Iux"
      }
    },
    {
      "cell_type": "code",
      "source": [
        "import numpy as np\n",
        "arr_1d=np.array([1, 2, 3, 4, 5, 6, 7, 8, 9])\n",
        "arr_2d=np.zeros((3, 3))\n",
        "arr_3 =np.ones((2, 4))\n",
        "arr_4 =np.identity(3)\n"
      ],
      "metadata": {
        "id": "Z2WD9-cU_6y8"
      },
      "execution_count": 2,
      "outputs": []
    },
    {
      "cell_type": "markdown",
      "source": [
        "\n",
        "## 🧪 2. Array Inspection\n",
        "**Question:** Given a NumPy array `arr`, print:\n",
        "1. Its shape\n",
        "2. Its data type\n",
        "3. The number of dimensions\n",
        "4. The total number of elements\n",
        "\n",
        "```python\n",
        "arr = np.array([[1, 2, 3], [4, 5, 6]])\n",
        "\n",
        "```\n",
        "\n",
        "---\n"
      ],
      "metadata": {
        "id": "UAFotM1N_h8t"
      }
    },
    {
      "cell_type": "code",
      "source": [
        "arr = np.array([[1, 2, 3], [4, 5, 6]])\n",
        "arr.shape\n",
        "arr.ndim\n",
        "arr.dtype\n",
        "arr.size\n"
      ],
      "metadata": {
        "id": "fWi-KIyR9n2O",
        "outputId": "a358f9dc-d3cf-4be3-8293-1edc84b4006b",
        "colab": {
          "base_uri": "https://localhost:8080/"
        }
      },
      "execution_count": 3,
      "outputs": [
        {
          "output_type": "execute_result",
          "data": {
            "text/plain": [
              "6"
            ]
          },
          "metadata": {},
          "execution_count": 3
        }
      ]
    },
    {
      "cell_type": "markdown",
      "source": [
        "\n",
        "## 🔍 3. Indexing and Slicing\n",
        "**Question:** Using the array below, do the following:\n",
        "1. Slice the first two rows\n",
        "2. Get the last column\n",
        "3. Extract the element in the second row and third column\n",
        "4. Reverse the rows\n",
        "\n",
        "```python\n",
        "arr = np.array([[10, 20, 30], [40, 50, 60], [70, 80, 90]])\n",
        "\n",
        "```\n"
      ],
      "metadata": {
        "id": "ssUHqVJR_lyu"
      }
    },
    {
      "cell_type": "code",
      "source": [
        "arr = np.array([[10, 20, 30], [40, 50, 60], [70, 80, 90]])"
      ],
      "metadata": {
        "id": "EHK3lYVn_8vR"
      },
      "execution_count": 4,
      "outputs": []
    },
    {
      "cell_type": "code",
      "source": [
        "arr[:2]"
      ],
      "metadata": {
        "id": "ls1kxyMoB3si",
        "outputId": "9c0008ae-8a98-4783-fb55-d11eb749d6c4",
        "colab": {
          "base_uri": "https://localhost:8080/"
        }
      },
      "execution_count": 6,
      "outputs": [
        {
          "output_type": "execute_result",
          "data": {
            "text/plain": [
              "array([[10, 20, 30],\n",
              "       [40, 50, 60]])"
            ]
          },
          "metadata": {},
          "execution_count": 6
        }
      ]
    },
    {
      "cell_type": "code",
      "source": [
        "arr[:3,2]"
      ],
      "metadata": {
        "id": "LNdFFgeKCF2I",
        "outputId": "99f92d8d-91ba-4cde-b63e-d47f77e4e340",
        "colab": {
          "base_uri": "https://localhost:8080/"
        }
      },
      "execution_count": 9,
      "outputs": [
        {
          "output_type": "execute_result",
          "data": {
            "text/plain": [
              "array([30, 60, 90])"
            ]
          },
          "metadata": {},
          "execution_count": 9
        }
      ]
    },
    {
      "cell_type": "code",
      "source": [
        "arr[1,2]"
      ],
      "metadata": {
        "id": "yu12mvOuC-VZ",
        "outputId": "88e4d86d-39a1-486f-821f-5a07c6b33b6d",
        "colab": {
          "base_uri": "https://localhost:8080/"
        }
      },
      "execution_count": 12,
      "outputs": [
        {
          "output_type": "execute_result",
          "data": {
            "text/plain": [
              "np.int64(60)"
            ]
          },
          "metadata": {},
          "execution_count": 12
        }
      ]
    },
    {
      "cell_type": "code",
      "source": [
        "arr[::-1]"
      ],
      "metadata": {
        "id": "nV6YYBIlDaWR",
        "outputId": "a829c633-757a-4bc0-9203-1d92028cd3ef",
        "colab": {
          "base_uri": "https://localhost:8080/"
        }
      },
      "execution_count": 13,
      "outputs": [
        {
          "output_type": "execute_result",
          "data": {
            "text/plain": [
              "array([[70, 80, 90],\n",
              "       [40, 50, 60],\n",
              "       [10, 20, 30]])"
            ]
          },
          "metadata": {},
          "execution_count": 13
        }
      ]
    },
    {
      "cell_type": "markdown",
      "source": [
        "\n",
        "---\n",
        "\n",
        "## 🔁 4. More Slicing Practice\n",
        "**Question:**\n",
        "Given the array below, extract:\n",
        "1. All even numbers\n",
        "2. The second and third rows\n",
        "3. The last two columns\n",
        "4. A subarray containing the middle 2x2 block\n",
        "\n",
        "```python\n",
        "arr = np.array([[1, 2, 3, 4],\n",
        "                [5, 6, 7, 8],\n",
        "                [9, 10, 11, 12],\n",
        "                [13, 14, 15, 16]])\n",
        "\n",
        "```\n"
      ],
      "metadata": {
        "id": "DwYyM0b1_nA5"
      }
    },
    {
      "cell_type": "code",
      "source": [
        "import numpy as np\n",
        "\n",
        "arr = np.array([[1, 2, 3, 4],\n",
        "                [5, 6, 7, 8],\n",
        "                [9, 10, 11, 12],\n",
        "                [13, 14, 15, 16]])\n",
        "\n",
        "even_numbers = arr[arr % 2 == 0]\n",
        "print(\"Even numbers:\\n\", even_numbers)\n",
        "\n",
        "rows_2_3 = arr[1:3, :]\n",
        "print(\"\\nSecond and third rows:\\n\", rows_2_3)\n",
        "\n",
        "last_two_cols = arr[:, -2:]\n",
        "print(\"\\nLast two columns:\\n\", last_two_cols)\n",
        "\n",
        "middle_block = arr[1:3, 1:3]\n",
        "print(\"\\nMiddle 2x2 block:\\n\", middle_block)\n"
      ],
      "metadata": {
        "id": "Z9dvnQF2_9xI",
        "outputId": "51994dd5-2d3c-4bac-a880-40f7089b4f12",
        "colab": {
          "base_uri": "https://localhost:8080/"
        }
      },
      "execution_count": 20,
      "outputs": [
        {
          "output_type": "stream",
          "name": "stdout",
          "text": [
            "Even numbers:\n",
            " [ 2  4  6  8 10 12 14 16]\n",
            "\n",
            "Second and third rows:\n",
            " [[ 5  6  7  8]\n",
            " [ 9 10 11 12]]\n",
            "\n",
            "Last two columns:\n",
            " [[ 3  4]\n",
            " [ 7  8]\n",
            " [11 12]\n",
            " [15 16]]\n",
            "\n",
            "Middle 2x2 block:\n",
            " [[ 6  7]\n",
            " [10 11]]\n"
          ]
        }
      ]
    },
    {
      "cell_type": "markdown",
      "source": [
        "\n",
        "---\n",
        "\n",
        "## ➕ 5. Arithmetic Operations\n",
        "**Question:** Perform the following using NumPy arrays:\n",
        "1. Add two arrays element-wise\n",
        "2. Multiply two arrays element-wise\n",
        "3. Raise all elements of an array to the power of 2\n",
        "\n",
        "```python\n",
        "arr1 = np.array([1, 2, 3])\n",
        "arr2 = np.array([4, 5, 6])\n",
        "\n",
        "```\n",
        "\n",
        "---\n"
      ],
      "metadata": {
        "id": "TYIR2o4w_qHm"
      }
    },
    {
      "cell_type": "code",
      "source": [
        "arr1 = np.array([1,2,3])\n",
        "arr2 = np.array([4,5,6])\n",
        "arr1+arr2"
      ],
      "metadata": {
        "id": "3pOaUm-y_--J",
        "outputId": "84bde484-e0b4-40bd-db45-8943ef9bbebf",
        "colab": {
          "base_uri": "https://localhost:8080/"
        }
      },
      "execution_count": 23,
      "outputs": [
        {
          "output_type": "execute_result",
          "data": {
            "text/plain": [
              "array([5, 7, 9])"
            ]
          },
          "metadata": {},
          "execution_count": 23
        }
      ]
    },
    {
      "cell_type": "code",
      "source": [
        "arr1*arr2"
      ],
      "metadata": {
        "id": "aBDh4aXFHZ5C",
        "outputId": "34a6d8af-7492-4827-f6ad-d24a2b948dce",
        "colab": {
          "base_uri": "https://localhost:8080/"
        }
      },
      "execution_count": 24,
      "outputs": [
        {
          "output_type": "execute_result",
          "data": {
            "text/plain": [
              "array([ 4, 10, 18])"
            ]
          },
          "metadata": {},
          "execution_count": 24
        }
      ]
    },
    {
      "cell_type": "code",
      "source": [
        "arr1**2"
      ],
      "metadata": {
        "id": "xtHdXo8cHhv7",
        "outputId": "ffbcb844-1df5-4e3b-87ed-c0889e4bc7da",
        "colab": {
          "base_uri": "https://localhost:8080/"
        }
      },
      "execution_count": 25,
      "outputs": [
        {
          "output_type": "execute_result",
          "data": {
            "text/plain": [
              "array([1, 4, 9])"
            ]
          },
          "metadata": {},
          "execution_count": 25
        }
      ]
    },
    {
      "cell_type": "markdown",
      "source": [
        "\n",
        "## 📏 6. Broadcasting\n",
        "**Question:** Use broadcasting to:\n",
        "1. Add a 1D array to each row of a 2D array\n",
        "2. Multiply each row of a 2D array by a 1D array\n",
        "3. Subtract a scalar from each element in an array\n",
        "4. Add a column vector to each column of a matrix\n",
        "\n",
        "```python\n",
        "A = np.array([[1, 2, 3],\n",
        "              [4, 5, 6]])\n",
        "\n",
        "B = np.array([10, 20, 30])\n",
        "C = np.array([[1], [2]])\n",
        "\n",
        "```\n"
      ],
      "metadata": {
        "id": "mfYIu2L9_rl6"
      }
    },
    {
      "cell_type": "code",
      "source": [
        "import numpy as np\n",
        "A = np.array([[1, 2, 3], [4, 5, 6]])\n",
        "B = np.array([10, 20, 30])\n",
        "C = np.array([[1], [2]])"
      ],
      "metadata": {
        "id": "HLueW9R2__sQ"
      },
      "execution_count": 26,
      "outputs": []
    },
    {
      "cell_type": "code",
      "source": [
        "A+B"
      ],
      "metadata": {
        "id": "QLfe5kdHH7u1",
        "outputId": "a1e955a1-81df-400a-a876-2277c1fd959a",
        "colab": {
          "base_uri": "https://localhost:8080/"
        }
      },
      "execution_count": 27,
      "outputs": [
        {
          "output_type": "execute_result",
          "data": {
            "text/plain": [
              "array([[11, 22, 33],\n",
              "       [14, 25, 36]])"
            ]
          },
          "metadata": {},
          "execution_count": 27
        }
      ]
    },
    {
      "cell_type": "code",
      "source": [
        "A*B"
      ],
      "metadata": {
        "id": "XoZdiDLnIDVD",
        "outputId": "6f1bfa52-fbe8-4e4c-a8fd-c38d2b0bc1aa",
        "colab": {
          "base_uri": "https://localhost:8080/"
        }
      },
      "execution_count": 30,
      "outputs": [
        {
          "output_type": "execute_result",
          "data": {
            "text/plain": [
              "array([[ 10,  40,  90],\n",
              "       [ 40, 100, 180]])"
            ]
          },
          "metadata": {},
          "execution_count": 30
        }
      ]
    },
    {
      "cell_type": "code",
      "source": [
        "A-5"
      ],
      "metadata": {
        "id": "rwDSwH4KIZy0",
        "outputId": "455a6076-718b-4569-a65c-a5535a51c154",
        "colab": {
          "base_uri": "https://localhost:8080/"
        }
      },
      "execution_count": 32,
      "outputs": [
        {
          "output_type": "execute_result",
          "data": {
            "text/plain": [
              "array([[-4, -3, -2],\n",
              "       [-1,  0,  1]])"
            ]
          },
          "metadata": {},
          "execution_count": 32
        }
      ]
    },
    {
      "cell_type": "code",
      "source": [
        "A+C"
      ],
      "metadata": {
        "id": "tBzqQypQIa6N",
        "outputId": "06e55dca-bf48-4519-9eb0-d0dc9a3ad827",
        "colab": {
          "base_uri": "https://localhost:8080/"
        }
      },
      "execution_count": 31,
      "outputs": [
        {
          "output_type": "execute_result",
          "data": {
            "text/plain": [
              "array([[2, 3, 4],\n",
              "       [6, 7, 8]])"
            ]
          },
          "metadata": {},
          "execution_count": 31
        }
      ]
    },
    {
      "cell_type": "markdown",
      "source": [
        "\n",
        "---\n",
        "\n",
        "## 🔁 7. More Broadcasting Practice\n",
        "**Question:** Try these:\n",
        "1. Add a 1D array of shape (4,) to a 2D array of shape (3,4)\n",
        "2. Multiply a (3,1) column array to a (1,4) row array and observe the shape\n",
        "3. Add a scalar to the entire array\n",
        "\n",
        "```python\n",
        "A = np.arange(12).reshape(3, 4)\n",
        "B = np.array([100, 200, 300, 400])\n",
        "C = np.array([[2], [3], [4]])\n",
        "\n",
        "```\n"
      ],
      "metadata": {
        "id": "GwaQHqqM_szI"
      }
    },
    {
      "cell_type": "code",
      "source": [
        "A+B"
      ],
      "metadata": {
        "id": "92PwMwBtAAwq",
        "outputId": "da0a62f3-ca1c-4341-e5d9-4ac028d71d89",
        "colab": {
          "base_uri": "https://localhost:8080/"
        }
      },
      "execution_count": 33,
      "outputs": [
        {
          "output_type": "execute_result",
          "data": {
            "text/plain": [
              "array([[11, 22, 33],\n",
              "       [14, 25, 36]])"
            ]
          },
          "metadata": {},
          "execution_count": 33
        }
      ]
    },
    {
      "cell_type": "code",
      "source": [
        "C*B"
      ],
      "metadata": {
        "id": "PTvX5ul3I4qk",
        "outputId": "4884bf64-1bb3-4c93-8c31-adb980b6dbb9",
        "colab": {
          "base_uri": "https://localhost:8080/"
        }
      },
      "execution_count": 34,
      "outputs": [
        {
          "output_type": "execute_result",
          "data": {
            "text/plain": [
              "array([[10, 20, 30],\n",
              "       [20, 40, 60]])"
            ]
          },
          "metadata": {},
          "execution_count": 34
        }
      ]
    },
    {
      "cell_type": "code",
      "source": [
        "A+10"
      ],
      "metadata": {
        "id": "hVK9napDI9P7",
        "outputId": "b7fc14b7-ca14-42d7-8d54-73f7b12807e6",
        "colab": {
          "base_uri": "https://localhost:8080/"
        }
      },
      "execution_count": 35,
      "outputs": [
        {
          "output_type": "execute_result",
          "data": {
            "text/plain": [
              "array([[11, 12, 13],\n",
              "       [14, 15, 16]])"
            ]
          },
          "metadata": {},
          "execution_count": 35
        }
      ]
    },
    {
      "cell_type": "markdown",
      "source": [
        "\n",
        "---\n",
        "\n",
        "## 🔃 8. Reshaping and Flattening\n",
        "**Question:**\n",
        "1. Reshape a 1D array of 12 elements into a 3x4 matrix\n",
        "2. Flatten a 2D array into a 1D array\n",
        "\n",
        "```python\n",
        "arr = np.arange(12)\n",
        "\n",
        "```\n"
      ],
      "metadata": {
        "id": "s0-ElcHm_uLL"
      }
    },
    {
      "cell_type": "code",
      "source": [
        "arr = np.arange(12)\n",
        "reshaped=arr.reshape(3, 4)\n",
        "reshaped"
      ],
      "metadata": {
        "id": "6cuXtuHNABj7",
        "outputId": "9527d8d5-b413-4680-97df-cbd8391b7ea2",
        "colab": {
          "base_uri": "https://localhost:8080/"
        }
      },
      "execution_count": 40,
      "outputs": [
        {
          "output_type": "execute_result",
          "data": {
            "text/plain": [
              "array([[ 0,  1,  2,  3],\n",
              "       [ 4,  5,  6,  7],\n",
              "       [ 8,  9, 10, 11]])"
            ]
          },
          "metadata": {},
          "execution_count": 40
        }
      ]
    },
    {
      "cell_type": "code",
      "source": [
        "reshaped.flatten()"
      ],
      "metadata": {
        "id": "IQGagwdUJZAY",
        "outputId": "2e1d435e-f36a-4d8a-d3ea-fd69c5ee9834",
        "colab": {
          "base_uri": "https://localhost:8080/"
        }
      },
      "execution_count": 41,
      "outputs": [
        {
          "output_type": "execute_result",
          "data": {
            "text/plain": [
              "array([ 0,  1,  2,  3,  4,  5,  6,  7,  8,  9, 10, 11])"
            ]
          },
          "metadata": {},
          "execution_count": 41
        }
      ]
    },
    {
      "cell_type": "markdown",
      "source": [
        "\n",
        "---\n",
        "\n",
        "## 🔗 9. Stacking and Splitting\n",
        "**Question:** Stack and split arrays:\n",
        "1. Stack two (2, 2) arrays vertically and horizontally\n",
        "2. reshape a (4, 4) array into array of shape (2, 8)\n",
        "\n",
        "\n",
        "---\n"
      ],
      "metadata": {
        "id": "wE_NIjfD_wYt"
      }
    },
    {
      "cell_type": "code",
      "source": [
        "arr1 = np.array([[1, 2],\n",
        "                 [3, 4]])\n",
        "arr2 = np.array([[5, 6],\n",
        "                 [7, 8]])\n",
        "v_stack = np.vstack((arr1, arr2))\n",
        "print(\"\\n1. Vertically stacked:\\n\", v_stack)\n",
        "\n",
        "h_stack = np.hstack((arr1, arr2))\n",
        "print(\"\\nHorizontally stacked:\\n\", h_stack)\n",
        "arr_big = np.arange(16).reshape(4, 4)\n",
        "print(\"\\nOriginal 4x4 array:\\n\", arr_big)\n",
        "\n",
        "reshaped = arr_big.reshape(2, 8)\n",
        "print(\"\\nReshaped to 2x8:\\n\", reshaped)"
      ],
      "metadata": {
        "id": "o_CDvo-DJxyZ",
        "outputId": "95cbaccc-9586-4c8c-8a43-1452235c85ec",
        "colab": {
          "base_uri": "https://localhost:8080/"
        }
      },
      "execution_count": 42,
      "outputs": [
        {
          "output_type": "stream",
          "name": "stdout",
          "text": [
            "\n",
            "1. Vertically stacked:\n",
            " [[1 2]\n",
            " [3 4]\n",
            " [5 6]\n",
            " [7 8]]\n",
            "\n",
            "Horizontally stacked:\n",
            " [[1 2 5 6]\n",
            " [3 4 7 8]]\n",
            "\n",
            "Original 4x4 array:\n",
            " [[ 0  1  2  3]\n",
            " [ 4  5  6  7]\n",
            " [ 8  9 10 11]\n",
            " [12 13 14 15]]\n",
            "\n",
            "Reshaped to 2x8:\n",
            " [[ 0  1  2  3  4  5  6  7]\n",
            " [ 8  9 10 11 12 13 14 15]]\n"
          ]
        }
      ]
    },
    {
      "cell_type": "markdown",
      "source": [
        "\n",
        "## 🧠 10. Boolean Masking\n",
        "**Question:**\n",
        "Given an array:\n",
        "1. Select all elements > 10\n",
        "2. Replace all even numbers with -1\n",
        "\n",
        "```python\n",
        "arr = np.array([[5, 10, 15], [20, 25, 30]])\n",
        "\n",
        "```\n"
      ],
      "metadata": {
        "id": "xEMoDhIO_xz1"
      }
    },
    {
      "cell_type": "code",
      "source": [
        "arr = np.array([[5, 10, 15], [20, 25, 30]])\n",
        "greater_than_10 = arr[arr > 10]\n",
        "print(\"\\n1. Elements greater than 10:\\n\", greater_than_10)\n",
        "\n",
        "arr[arr % 2 == 0] = -1\n",
        "print(\"\\n2. Array after replacing even numbers with -1:\\n\", arr)\n"
      ],
      "metadata": {
        "id": "jejS1-qiADMy",
        "outputId": "8fda26d6-5de0-4d9d-c1ba-e7af6b212d26",
        "colab": {
          "base_uri": "https://localhost:8080/"
        }
      },
      "execution_count": 45,
      "outputs": [
        {
          "output_type": "stream",
          "name": "stdout",
          "text": [
            "\n",
            "1. Elements greater than 10:\n",
            " [15 20 25 30]\n",
            "\n",
            "2. Array after replacing even numbers with -1:\n",
            " [[ 5 -1 15]\n",
            " [-1 25 -1]]\n"
          ]
        }
      ]
    },
    {
      "cell_type": "markdown",
      "source": [
        "\n",
        "---\n",
        "\n",
        "## 🧮 11. Aggregation\n",
        "**Question:** Calculate:\n",
        "1. Sum of all elements\n",
        "2. Mean of each column\n",
        "3. Max value in each row\n",
        "4. Standard deviation of the array\n",
        "\n",
        "```python\n",
        "arr = np.array([[1, 2, 3], [4, 5, 6]])\n",
        "\n",
        "```\n"
      ],
      "metadata": {
        "id": "9AY2Y8HR_zSR"
      }
    },
    {
      "cell_type": "code",
      "source": [
        "arr = np.array([[1, 2, 3],\n",
        "                [4, 5, 6]])\n",
        "total_sum = np.sum(arr)\n",
        "mean_columns = np.mean(arr, axis=0)\n",
        "max_rows = np.max(arr, axis=1)\n",
        "std_dev = np.std(arr)\n",
        "print(\"1. Sum of all elements:\", total_sum)\n",
        "print(\"2. Mean of each column:\", mean_columns)\n",
        "print(\"3. Max value in each row:\", max_rows)\n",
        "print(\"4. Standard deviation of the array:\", std_dev)"
      ],
      "metadata": {
        "id": "xlaIab8NAESs",
        "outputId": "f8c4d411-b888-4479-9e51-8a324d1f9302",
        "colab": {
          "base_uri": "https://localhost:8080/"
        }
      },
      "execution_count": 46,
      "outputs": [
        {
          "output_type": "stream",
          "name": "stdout",
          "text": [
            "1. Sum of all elements: 21\n",
            "2. Mean of each column: [2.5 3.5 4.5]\n",
            "3. Max value in each row: [3 6]\n",
            "4. Standard deviation of the array: 1.707825127659933\n"
          ]
        }
      ]
    },
    {
      "cell_type": "markdown",
      "source": [
        "\n",
        "---\n",
        "\n",
        "## 🧲 12. Dot Product and Matrix Multiplication\n",
        "**Question:**\n",
        "1. Multiply two matrices using `np.dot`\n",
        "\n",
        "```python\n",
        "A = np.array([[1, 2],\n",
        "              [3, 4]])\n",
        "B = np.array([[5, 6],\n",
        "              [7, 8]])\n",
        "\n",
        "```\n"
      ],
      "metadata": {
        "id": "N4mqr1Gr_0Kt"
      }
    },
    {
      "cell_type": "code",
      "source": [
        "A = np.array([[1, 2],\n",
        "              [3, 4]])\n",
        "B = np.array([[5, 6],\n",
        "              [7, 8]])\n",
        "\n",
        "result = np.dot(A, B)\n",
        "\n",
        "print(result)"
      ],
      "metadata": {
        "id": "gbWAzqoYAFR0",
        "outputId": "b2ee89c2-21d7-4df7-eb25-139563d5c992",
        "colab": {
          "base_uri": "https://localhost:8080/"
        }
      },
      "execution_count": 47,
      "outputs": [
        {
          "output_type": "stream",
          "name": "stdout",
          "text": [
            "[[19 22]\n",
            " [43 50]]\n"
          ]
        }
      ]
    },
    {
      "cell_type": "markdown",
      "source": [
        "\n",
        "---\n",
        "\n",
        "## 🔢 13. Random Numbers\n",
        "**Question:**\n",
        "1. Generate a 2x3 array of random numbers between 0 and 1\n",
        "2. Generate 10 random integers between 50 and 100\n",
        "\n"
      ],
      "metadata": {
        "id": "W1UDOAdi_1ar"
      }
    },
    {
      "cell_type": "code",
      "source": [
        "arr1 = np.random.rand(2, 3)\n",
        "\n",
        "arr2 = np.random.randint(50, 101, size=10)  # 101 is exclusive\n",
        "\n",
        "print(\"Random 2x3 array between 0 and 1:\\n\", arr1)\n",
        "print(\"\\nRandom 10 integers between 50 and 100:\\n\", arr2)"
      ],
      "metadata": {
        "id": "jOVTvy_hAGcv",
        "outputId": "881e70c6-6c94-4062-97a2-6290dd68359f",
        "colab": {
          "base_uri": "https://localhost:8080/"
        }
      },
      "execution_count": 48,
      "outputs": [
        {
          "output_type": "stream",
          "name": "stdout",
          "text": [
            "Random 2x3 array between 0 and 1:\n",
            " [[0.50322873 0.98551775 0.83360695]\n",
            " [0.81279143 0.81843884 0.01012364]]\n",
            "\n",
            "Random 10 integers between 50 and 100:\n",
            " [55 62 62 72 79 53 55 55 89 63]\n"
          ]
        }
      ]
    },
    {
      "cell_type": "markdown",
      "source": [
        "\n",
        "---\n",
        "\n",
        "## 📐 14. Linear Algebra\n",
        "**Question:**\n",
        "1. Find the rank of a matrix\n",
        "2. Compute the inverse of a matrix\n",
        "3. Compute the determinant of a matrix\n",
        "\n",
        "\n",
        "\n",
        "---\n"
      ],
      "metadata": {
        "id": "O-rWgFCv_27-"
      }
    },
    {
      "cell_type": "code",
      "source": [
        "\n",
        "A = np.array([[1, 2, 3],\n",
        "              [0, 1, 4],\n",
        "              [5, 6, 0]])\n",
        "\n",
        "rank = np.linalg.matrix_rank(A)\n",
        "\n",
        "inverse = np.linalg.inv(A)\n",
        "\n",
        "determinant = np.linalg.det(A)\n",
        "\n",
        "print(\"Matrix:\\n\", A)\n",
        "print(\"\\nRank of the matrix:\", rank)\n",
        "print(\"\\nInverse of the matrix:\\n\", inverse)\n",
        "print(\"\\nDeterminant of the matrix:\", determinant)\n"
      ],
      "metadata": {
        "id": "rcW7oVrGAGwI",
        "outputId": "3d59b5d1-185d-452b-9970-6e28802e582e",
        "colab": {
          "base_uri": "https://localhost:8080/"
        }
      },
      "execution_count": 49,
      "outputs": [
        {
          "output_type": "stream",
          "name": "stdout",
          "text": [
            "Matrix:\n",
            " [[1 2 3]\n",
            " [0 1 4]\n",
            " [5 6 0]]\n",
            "\n",
            "Rank of the matrix: 3\n",
            "\n",
            "Inverse of the matrix:\n",
            " [[-24.  18.   5.]\n",
            " [ 20. -15.  -4.]\n",
            " [ -5.   4.   1.]]\n",
            "\n",
            "Determinant of the matrix: 0.9999999999999964\n"
          ]
        }
      ]
    },
    {
      "cell_type": "markdown",
      "source": [
        "\n",
        "## ⭐ Bonus Challenge\n",
        "**Question:**\n",
        "Given a 2D array of shape (6, 6), extract all 3x3 submatrices (using slicing) and store them in a list.\n",
        "\n"
      ],
      "metadata": {
        "id": "lQb606tk_5L5"
      }
    },
    {
      "cell_type": "code",
      "source": [],
      "metadata": {
        "id": "dNR9aI5m9Vrr"
      },
      "execution_count": null,
      "outputs": []
    },
    {
      "cell_type": "markdown",
      "source": [
        "\n",
        "---\n",
        "\n",
        "Happy coding! 🎯\n"
      ],
      "metadata": {
        "id": "-qOCxwQnAJn2"
      }
    },
    {
      "cell_type": "code",
      "source": [],
      "metadata": {
        "id": "MBHa4EcJAJxF"
      },
      "execution_count": null,
      "outputs": []
    }
  ]
}